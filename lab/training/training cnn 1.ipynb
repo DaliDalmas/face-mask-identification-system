{
 "cells": [
  {
   "cell_type": "code",
   "execution_count": null,
   "id": "5d3cbc0e-f6f1-48c5-8e35-cdb5668c3473",
   "metadata": {},
   "outputs": [],
   "source": [
    "import torch\n",
    "import torch.nn as nn\n",
    "import torch.nn.functional as F\n",
    "import torchvision\n",
    "import matplotlib.pyplot as plt\n",
    "import numpy as np\n",
    "batch_size = 32\n",
    "classes = ('with_mask', 'no___mask')"
   ]
  },
  {
   "cell_type": "markdown",
   "id": "c481f8b9-3994-442c-87c3-e7439cc1c0f9",
   "metadata": {},
   "source": [
    "## load and preprocessing images"
   ]
  },
  {
   "cell_type": "code",
   "execution_count": null,
   "id": "e64b1637-84cb-48df-a6ab-03d02abef292",
   "metadata": {},
   "outputs": [],
   "source": [
    "transform = torchvision.transforms.Compose([\n",
    "    torchvision.transforms.Resize((32,32)),\n",
    "    torchvision.transforms.RandomHorizontalFlip(),\n",
    "    torchvision.transforms.ToTensor()\n",
    "])"
   ]
  },
  {
   "cell_type": "code",
   "execution_count": null,
   "id": "278a2e54-c64a-48cf-aeab-7878f199d93a",
   "metadata": {},
   "outputs": [],
   "source": [
    "# dataset\n",
    "dataset = torchvision.datasets.ImageFolder('../data/train/',transform=transform)"
   ]
  },
  {
   "cell_type": "code",
   "execution_count": null,
   "id": "54c880db-a539-4ab1-9124-9ab558e21a5e",
   "metadata": {},
   "outputs": [],
   "source": [
    "dataset"
   ]
  },
  {
   "cell_type": "code",
   "execution_count": null,
   "id": "8f212375-34c0-4ebd-8479-391f22ac76e2",
   "metadata": {},
   "outputs": [],
   "source": [
    "# data loader\n",
    "trainloader = torch.utils.data.DataLoader(dataset, batch_size=batch_size, shuffle=True)"
   ]
  },
  {
   "cell_type": "markdown",
   "id": "3d346e1b-53d0-4a21-b186-b087dd49c617",
   "metadata": {},
   "source": [
    "### visualize the images"
   ]
  },
  {
   "cell_type": "code",
   "execution_count": null,
   "id": "3c6dd566-9768-48c5-b420-4f77b6ab3ce2",
   "metadata": {},
   "outputs": [],
   "source": [
    "from matplotlib.pyplot import figure\n",
    "figure(figsize=(14, 8), dpi=80)\n",
    "\n",
    "def imshow(img):\n",
    "    img = img / 2 + 0.5     # unnormalize\n",
    "    npimg = img.numpy()\n",
    "    fig = plt.imshow(np.transpose(npimg, (1, 2, 0)))\n",
    "    plt.show()\n",
    "\n",
    "\n",
    "# ploting the data\n",
    "images, labels = next(iter(dataloader))\n",
    "\n",
    "# show images\n",
    "imshow(torchvision.utils.make_grid(images))\n",
    "# print labels\n",
    "print(' | '.join(f'\\n{classes[labels[j-1]]}' if ((j-1)%8==0)&(j!=1) else f'{classes[labels[j-1]]}' for j in range(1, batch_size+1)))"
   ]
  },
  {
   "cell_type": "markdown",
   "id": "2dced44c-e4b1-4550-9e51-85ff83b2468a",
   "metadata": {},
   "source": [
    "### classifier"
   ]
  },
  {
   "cell_type": "code",
   "execution_count": null,
   "id": "b1b18ae3-9e85-431e-b220-4b662a391c5f",
   "metadata": {},
   "outputs": [],
   "source": [
    "class CNN(nn.Module):\n",
    "    def __init__(self):\n",
    "        super().__init__()\n",
    "        self.conv1 = nn.Conv2d(3, 6, 5)\n",
    "        self.pool = nn.MaxPool2d(2, 2)\n",
    "        self.conv2 = nn.Conv2d(6, 16, 5)\n",
    "        self.fc1 = nn.Linear(16 * 5 * 5, 120)\n",
    "        self.fc2 = nn.Linear(120, 84)\n",
    "        self.fc3 = nn.Linear(84, 2)\n",
    "\n",
    "    def forward(self, x):\n",
    "        x = self.pool(F.relu(self.conv1(x)))\n",
    "        x = self.pool(F.relu(self.conv2(x)))\n",
    "        x = torch.flatten(x, 1) # flatten all dimensions except batch\n",
    "        x = F.relu(self.fc1(x))\n",
    "        x = F.relu(self.fc2(x))\n",
    "        x = self.fc3(x)\n",
    "        return x\n",
    "\n",
    "\n",
    "net = CNN()"
   ]
  },
  {
   "cell_type": "code",
   "execution_count": null,
   "id": "027f48f7-8a09-4042-a5a6-c6184c3451c9",
   "metadata": {},
   "outputs": [],
   "source": [
    "import torch.optim as optim\n",
    "\n",
    "criterion = nn.CrossEntropyLoss()\n",
    "optimizer = optim.SGD(net.parameters(), lr=0.001, momentum=0.9)"
   ]
  },
  {
   "cell_type": "code",
   "execution_count": null,
   "id": "0d1aaaa1-7309-44dc-b9d8-1d71bc1d8863",
   "metadata": {},
   "outputs": [],
   "source": [
    "for epoch in range(2):  # loop over the dataset multiple times\n",
    "\n",
    "    running_loss = 0.0\n",
    "    for i, data in enumerate(trainloader, 0):\n",
    "        # get the inputs; data is a list of [inputs, labels]\n",
    "        inputs, labels = data\n",
    "\n",
    "        # zero the parameter gradients\n",
    "        optimizer.zero_grad()\n",
    "\n",
    "        # forward + backward + optimize\n",
    "        outputs = net(inputs)\n",
    "        loss = criterion(outputs, labels)\n",
    "        loss.backward()\n",
    "        optimizer.step()\n",
    "        optimizer\n",
    "        # print statistics\n",
    "        running_loss += loss.item()\n",
    "        if i % 100 == 99:    # print every 2000 mini-batches\n",
    "            print(f'[{epoch + 1}, {i + 1:5d}] loss: {running_loss / 2000:.3f}')\n",
    "            running_loss = 0.0\n",
    "\n",
    "print('Finished Training')"
   ]
  },
  {
   "cell_type": "code",
   "execution_count": null,
   "id": "18e4dda7-5ca1-4474-be50-df631ca59534",
   "metadata": {},
   "outputs": [],
   "source": []
  }
 ],
 "metadata": {
  "kernelspec": {
   "display_name": "Python 3.10.0 ('venv': venv)",
   "language": "python",
   "name": "python3"
  },
  "language_info": {
   "codemirror_mode": {
    "name": "ipython",
    "version": 3
   },
   "file_extension": ".py",
   "mimetype": "text/x-python",
   "name": "python",
   "nbconvert_exporter": "python",
   "pygments_lexer": "ipython3",
   "version": "3.10.0"
  },
  "vscode": {
   "interpreter": {
    "hash": "8137c51d4835894a83c0d0bef64e2753c51d2b004e2ee101ed7038ac3680b16f"
   }
  }
 },
 "nbformat": 4,
 "nbformat_minor": 5
}
